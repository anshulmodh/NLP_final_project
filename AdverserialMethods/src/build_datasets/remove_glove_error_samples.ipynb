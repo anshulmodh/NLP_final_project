{
 "cells": [
  {
   "cell_type": "code",
   "execution_count": 97,
   "id": "87dcd361-ea4e-4762-8f14-d90860cbf629",
   "metadata": {},
   "outputs": [],
   "source": [
    "import pandas as pd"
   ]
  },
  {
   "cell_type": "code",
   "execution_count": 98,
   "id": "660d4fbc-fc7d-4efa-ac51-33ba55997919",
   "metadata": {},
   "outputs": [],
   "source": [
    "embds_file = \"../data/embds/glove.840B.300d.txt\"\n",
    "# source_name = \"../data/snli_1.0/cl_snli_train_source_file\"\n",
    "source_name = \"../data/multinli_1.0/cl_multinli_train_source_file\"\n",
    "labels = \"../data/multinli_1.0/cl_multinli_train_lbl_file\"\n",
    "\n",
    "\n",
    "output = open(\"mnli_train_glovefixed.txt\", 'w')\n",
    "output_labels = open(\"mnli_train_glovefixed_labels.txt\", 'w')"
   ]
  },
  {
   "cell_type": "code",
   "execution_count": 99,
   "id": "c56a039c-2561-44c3-a638-7f590524d608",
   "metadata": {},
   "outputs": [],
   "source": [
    "def add_word(w, d):\n",
    "    if w in d:\n",
    "        d[w] += 1\n",
    "    else:\n",
    "        d[w] = 1"
   ]
  },
  {
   "cell_type": "code",
   "execution_count": 100,
   "id": "01e26936-5fb6-4ba0-8644-9b4322c87863",
   "metadata": {},
   "outputs": [],
   "source": [
    "words_missing = []\n",
    "if \"multinli\" in source_name:\n",
    "    source = open(source_name, 'rb')\n",
    "else:\n",
    "    source = open(source_name, 'r')\n",
    "vocab = set()\n",
    "words_affected = {}\n",
    "labels = open(labels, 'r')"
   ]
  },
  {
   "cell_type": "code",
   "execution_count": 101,
   "id": "de38b3af-8515-44e2-9ad0-be816463bbcc",
   "metadata": {},
   "outputs": [],
   "source": [
    "missing_words = set()\n",
    "vectored_words = set()\n",
    "samples_affected = 0\n",
    "affected_num = 0\n",
    "with open(embds_file, encoding=\"utf8\") as f:\n",
    "    for line in f:\n",
    "      word, vec = line.split(' ', 1)\n",
    "      vectored_words.add(word)"
   ]
  },
  {
   "cell_type": "code",
   "execution_count": 102,
   "id": "25282e76-80c5-4c5d-aaa9-a656586ad1f1",
   "metadata": {},
   "outputs": [
    {
     "name": "stdout",
     "output_type": "stream",
     "text": [
      "20000 completed\n",
      "40000 completed\n",
      "60000 completed\n",
      "80000 completed\n",
      "100000 completed\n",
      "120000 completed\n",
      "140000 completed\n",
      "160000 completed\n",
      "180000 completed\n",
      "200000 completed\n",
      "220000 completed\n",
      "240000 completed\n",
      "260000 completed\n",
      "280000 completed\n",
      "300000 completed\n",
      "320000 completed\n",
      "340000 completed\n",
      "360000 completed\n",
      "380000 completed\n",
      "343632 343632 48976 48976\n"
     ]
    }
   ],
   "source": [
    "num_samples = 0\n",
    "dropped_words = 0\n",
    "\n",
    "new_source = []\n",
    "new_labels = []\n",
    "\n",
    "try:\n",
    "    while True:\n",
    "        label = next(labels).replace(\"\\n\", \"\")\n",
    "        if \"multinli\" in source_name:\n",
    "            try:\n",
    "                sample = next(source).decode(encoding='UTF-8')\n",
    "                line = sample.replace(\"\\n\", \"\").replace(\" .\", \"\").split(\"|||\")\n",
    "            except UnicodeDecodeError:\n",
    "                pass\n",
    "        else:\n",
    "            sample = next(source)\n",
    "            line = sample.replace(\"\\n\", \"\").replace(\" .\", \"\").split(\"|||\")\n",
    "        premise, hypothesis = line[0].split(\" \"), line[1].split(\" \")\n",
    "        affected = False\n",
    "        for word in hypothesis:\n",
    "            if word not in vectored_words:\n",
    "                add_word(word, words_affected)\n",
    "                affected_num += 1\n",
    "                affected = True\n",
    "            vocab.add(word)\n",
    "        for word in premise:\n",
    "            if word not in vectored_words:\n",
    "                add_word(word, words_affected)\n",
    "                affected_num += 1\n",
    "                affected = True\n",
    "            vocab.add(word)\n",
    "        if affected:\n",
    "            samples_affected += 1\n",
    "        else:\n",
    "            new_source.append(sample)\n",
    "            new_labels.append(label + \"\\n\")\n",
    "        num_samples += 1\n",
    "        if num_samples % 20000 == 0:\n",
    "            print(num_samples, \"completed\")\n",
    "except StopIteration:\n",
    "    pass\n",
    "\n",
    "print(len(new_source), len(new_labels), num_samples - len(new_labels), samples_affected)\n",
    "new_source = \"\".join(new_source)\n",
    "new_labels = \"\".join(new_labels)"
   ]
  },
  {
   "cell_type": "code",
   "execution_count": 103,
   "id": "71187105-19a1-4d85-8c89-d9521afc8551",
   "metadata": {},
   "outputs": [
    {
     "data": {
      "text/plain": [
       "3779433"
      ]
     },
     "execution_count": 103,
     "metadata": {},
     "output_type": "execute_result"
    }
   ],
   "source": [
    "output.write(new_source)\n",
    "output_labels.write(new_labels)"
   ]
  },
  {
   "cell_type": "code",
   "execution_count": 104,
   "id": "f8584050-8d2d-444b-80b2-42e44d0d6398",
   "metadata": {},
   "outputs": [
    {
     "data": {
      "text/plain": [
       "15481"
      ]
     },
     "execution_count": 104,
     "metadata": {},
     "output_type": "execute_result"
    }
   ],
   "source": [
    "missing_words = vocab - vectored_words\n",
    "len(missing_words)"
   ]
  },
  {
   "cell_type": "code",
   "execution_count": 105,
   "id": "1a96a4bc-0467-4b32-8df6-1b033867093a",
   "metadata": {},
   "outputs": [
    {
     "data": {
      "text/plain": [
       "0.15109605887290403"
      ]
     },
     "execution_count": 105,
     "metadata": {},
     "output_type": "execute_result"
    }
   ],
   "source": [
    "len(missing_words)/len(vocab)"
   ]
  },
  {
   "cell_type": "code",
   "execution_count": 106,
   "id": "ec28f547-8fc1-447c-82d2-bbe10334829d",
   "metadata": {},
   "outputs": [
    {
     "data": {
      "text/plain": [
       "48976"
      ]
     },
     "execution_count": 106,
     "metadata": {},
     "output_type": "execute_result"
    }
   ],
   "source": [
    "samples_affected"
   ]
  },
  {
   "cell_type": "code",
   "execution_count": 107,
   "id": "d3d7c81a-f688-494b-92a6-c765330fbb2c",
   "metadata": {},
   "outputs": [
    {
     "data": {
      "text/plain": [
       "71827"
      ]
     },
     "execution_count": 107,
     "metadata": {},
     "output_type": "execute_result"
    }
   ],
   "source": [
    "affected_num"
   ]
  },
  {
   "cell_type": "code",
   "execution_count": 108,
   "id": "b33c1299-1cc2-48cb-ad9d-aa57dd696fde",
   "metadata": {},
   "outputs": [
    {
     "data": {
      "text/plain": [
       "392608"
      ]
     },
     "execution_count": 108,
     "metadata": {},
     "output_type": "execute_result"
    }
   ],
   "source": [
    "num_samples"
   ]
  },
  {
   "cell_type": "code",
   "execution_count": 109,
   "id": "5990bca7-f8e7-4a23-b2aa-0b701fcce206",
   "metadata": {},
   "outputs": [
    {
     "data": {
      "text/plain": [
       "0.1829483861765425"
      ]
     },
     "execution_count": 109,
     "metadata": {},
     "output_type": "execute_result"
    }
   ],
   "source": [
    "affected_num/num_samples"
   ]
  },
  {
   "cell_type": "code",
   "execution_count": 110,
   "id": "8531f462-024a-4f94-8fd9-3921d44f256b",
   "metadata": {},
   "outputs": [
    {
     "data": {
      "text/html": [
       "<div>\n",
       "<style scoped>\n",
       "    .dataframe tbody tr th:only-of-type {\n",
       "        vertical-align: middle;\n",
       "    }\n",
       "\n",
       "    .dataframe tbody tr th {\n",
       "        vertical-align: top;\n",
       "    }\n",
       "\n",
       "    .dataframe thead th {\n",
       "        text-align: right;\n",
       "    }\n",
       "</style>\n",
       "<table border=\"1\" class=\"dataframe\">\n",
       "  <thead>\n",
       "    <tr style=\"text-align: right;\">\n",
       "      <th></th>\n",
       "      <th>word</th>\n",
       "      <th>num</th>\n",
       "    </tr>\n",
       "  </thead>\n",
       "  <tbody>\n",
       "    <tr>\n",
       "      <th>9</th>\n",
       "      <td>Ca'daan</td>\n",
       "      <td>2581</td>\n",
       "    </tr>\n",
       "    <tr>\n",
       "      <th>31</th>\n",
       "      <td>um-hum</td>\n",
       "      <td>2106</td>\n",
       "    </tr>\n",
       "    <tr>\n",
       "      <th>116</th>\n",
       "      <td>San'doro</td>\n",
       "      <td>926</td>\n",
       "    </tr>\n",
       "    <tr>\n",
       "      <th>50</th>\n",
       "      <td>Vandemeyer</td>\n",
       "      <td>712</td>\n",
       "    </tr>\n",
       "    <tr>\n",
       "      <th>131</th>\n",
       "      <td>'I</td>\n",
       "      <td>612</td>\n",
       "    </tr>\n",
       "    <tr>\n",
       "      <th>137</th>\n",
       "      <td>Karf</td>\n",
       "      <td>349</td>\n",
       "    </tr>\n",
       "    <tr>\n",
       "      <th>398</th>\n",
       "      <td>Hersheimmer</td>\n",
       "      <td>321</td>\n",
       "    </tr>\n",
       "    <tr>\n",
       "      <th>454</th>\n",
       "      <td>Bauerstein</td>\n",
       "      <td>284</td>\n",
       "    </tr>\n",
       "    <tr>\n",
       "      <th>49</th>\n",
       "      <td>'You</td>\n",
       "      <td>245</td>\n",
       "    </tr>\n",
       "    <tr>\n",
       "      <th>395</th>\n",
       "      <td>A'deem</td>\n",
       "      <td>238</td>\n",
       "    </tr>\n",
       "    <tr>\n",
       "      <th>149</th>\n",
       "      <td>Gauve</td>\n",
       "      <td>213</td>\n",
       "    </tr>\n",
       "    <tr>\n",
       "      <th>360</th>\n",
       "      <td>Tubacca</td>\n",
       "      <td>158</td>\n",
       "    </tr>\n",
       "    <tr>\n",
       "      <th>1058</th>\n",
       "      <td>Satheri</td>\n",
       "      <td>157</td>\n",
       "    </tr>\n",
       "    <tr>\n",
       "      <th>1766</th>\n",
       "      <td>Dudovitz</td>\n",
       "      <td>144</td>\n",
       "    </tr>\n",
       "    <tr>\n",
       "      <th>267</th>\n",
       "      <td>huh-uh</td>\n",
       "      <td>141</td>\n",
       "    </tr>\n",
       "    <tr>\n",
       "      <th>450</th>\n",
       "      <td>'What</td>\n",
       "      <td>139</td>\n",
       "    </tr>\n",
       "    <tr>\n",
       "      <th>22</th>\n",
       "      <td>Czarek</td>\n",
       "      <td>137</td>\n",
       "    </tr>\n",
       "    <tr>\n",
       "      <th>971</th>\n",
       "      <td>Ceteau</td>\n",
       "      <td>133</td>\n",
       "    </tr>\n",
       "    <tr>\n",
       "      <th>176</th>\n",
       "      <td>nonexchange</td>\n",
       "      <td>133</td>\n",
       "    </tr>\n",
       "    <tr>\n",
       "      <th>385</th>\n",
       "      <td>Cete</td>\n",
       "      <td>130</td>\n",
       "    </tr>\n",
       "  </tbody>\n",
       "</table>\n",
       "</div>"
      ],
      "text/plain": [
       "             word   num\n",
       "9         Ca'daan  2581\n",
       "31         um-hum  2106\n",
       "116      San'doro   926\n",
       "50     Vandemeyer   712\n",
       "131            'I   612\n",
       "137          Karf   349\n",
       "398   Hersheimmer   321\n",
       "454    Bauerstein   284\n",
       "49           'You   245\n",
       "395        A'deem   238\n",
       "149         Gauve   213\n",
       "360       Tubacca   158\n",
       "1058      Satheri   157\n",
       "1766     Dudovitz   144\n",
       "267        huh-uh   141\n",
       "450         'What   139\n",
       "22         Czarek   137\n",
       "971        Ceteau   133\n",
       "176   nonexchange   133\n",
       "385          Cete   130"
      ]
     },
     "execution_count": 110,
     "metadata": {},
     "output_type": "execute_result"
    }
   ],
   "source": [
    "words = pd.DataFrame.from_dict(words_affected, orient='index').reset_index().rename(columns={0: \"num\", \"index\": \"word\"}).sort_values(by=\"num\", ascending=False)\n",
    "words.head(20)"
   ]
  },
  {
   "cell_type": "code",
   "execution_count": 111,
   "id": "c40d6ee3-0604-47de-a9d6-025029884756",
   "metadata": {},
   "outputs": [],
   "source": [
    "numericals = []\n",
    "\n",
    "for word in missing_words:\n",
    "    for num in [\"0\", \"1\", \"2\", \"3\", \"4\", \"5\", \"6\", \"7\", \"8\", \"9\"]:\n",
    "        if num in word:\n",
    "            numericals.append(word)\n",
    "            continue"
   ]
  },
  {
   "cell_type": "code",
   "execution_count": 112,
   "id": "62b4f87b-85d3-4d50-a46b-139831fd36c0",
   "metadata": {},
   "outputs": [
    {
     "data": {
      "text/plain": [
       "4274"
      ]
     },
     "execution_count": 112,
     "metadata": {},
     "output_type": "execute_result"
    }
   ],
   "source": [
    "len(numericals)"
   ]
  },
  {
   "cell_type": "code",
   "execution_count": null,
   "id": "96702712-a862-4957-8a3e-1fc608a469fb",
   "metadata": {},
   "outputs": [],
   "source": []
  }
 ],
 "metadata": {
  "kernelspec": {
   "display_name": "Python 3 (ipykernel)",
   "language": "python",
   "name": "python3"
  },
  "language_info": {
   "codemirror_mode": {
    "name": "ipython",
    "version": 3
   },
   "file_extension": ".py",
   "mimetype": "text/x-python",
   "name": "python",
   "nbconvert_exporter": "python",
   "pygments_lexer": "ipython3",
   "version": "3.9.1"
  }
 },
 "nbformat": 4,
 "nbformat_minor": 5
}
