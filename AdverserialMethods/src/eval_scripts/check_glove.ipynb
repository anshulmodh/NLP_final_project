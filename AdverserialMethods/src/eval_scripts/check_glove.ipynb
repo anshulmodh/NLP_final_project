{
 "cells": [
  {
   "cell_type": "code",
   "execution_count": 1,
   "id": "87dcd361-ea4e-4762-8f14-d90860cbf629",
   "metadata": {},
   "outputs": [],
   "source": [
    "import pandas as pd"
   ]
  },
  {
   "cell_type": "code",
   "execution_count": 2,
   "id": "660d4fbc-fc7d-4efa-ac51-33ba55997919",
   "metadata": {},
   "outputs": [],
   "source": [
    "embds_file = \"../data/embds/glove.840B.300d.txt\"\n",
    "# source_name = \"../data/snli_1.0/cl_snli_train_source_file\"\n",
    "source_name = \"../data/snli_1.0/cl_snli_train_source_file\""
   ]
  },
  {
   "cell_type": "code",
   "execution_count": 3,
   "id": "c56a039c-2561-44c3-a638-7f590524d608",
   "metadata": {},
   "outputs": [],
   "source": [
    "def add_word(w, d):\n",
    "    if w in d:\n",
    "        d[w] += 1\n",
    "    else:\n",
    "        d[w] = 1"
   ]
  },
  {
   "cell_type": "code",
   "execution_count": 4,
   "id": "01e26936-5fb6-4ba0-8644-9b4322c87863",
   "metadata": {},
   "outputs": [],
   "source": [
    "words_missing = []\n",
    "if \"multinli\" in source_name:\n",
    "    source = open(source_name, 'rb')\n",
    "else:\n",
    "    source = open(source_name, 'r')\n",
    "vocab = set()\n",
    "words_affected = {}"
   ]
  },
  {
   "cell_type": "code",
   "execution_count": 5,
   "id": "de38b3af-8515-44e2-9ad0-be816463bbcc",
   "metadata": {},
   "outputs": [],
   "source": [
    "missing_words = set()\n",
    "vectored_words = set()\n",
    "samples_affected = 0\n",
    "affected_num = 0\n",
    "with open(embds_file, encoding=\"utf8\") as f:\n",
    "    for line in f:\n",
    "      word, vec = line.split(' ', 1)\n",
    "      vectored_words.add(word)"
   ]
  },
  {
   "cell_type": "code",
   "execution_count": 6,
   "id": "25282e76-80c5-4c5d-aaa9-a656586ad1f1",
   "metadata": {},
   "outputs": [
    {
     "name": "stdout",
     "output_type": "stream",
     "text": [
      "20000 completed\n",
      "40000 completed\n",
      "60000 completed\n",
      "80000 completed\n",
      "100000 completed\n",
      "120000 completed\n",
      "140000 completed\n",
      "160000 completed\n",
      "180000 completed\n",
      "200000 completed\n",
      "220000 completed\n",
      "240000 completed\n",
      "260000 completed\n",
      "280000 completed\n",
      "300000 completed\n",
      "320000 completed\n",
      "340000 completed\n",
      "360000 completed\n",
      "380000 completed\n",
      "400000 completed\n",
      "420000 completed\n",
      "440000 completed\n",
      "460000 completed\n",
      "480000 completed\n",
      "500000 completed\n",
      "520000 completed\n",
      "540000 completed\n"
     ]
    }
   ],
   "source": [
    "num_samples = 0\n",
    "\n",
    "try:\n",
    "    while True:\n",
    "        if \"multinli\" in source_name:\n",
    "            try:\n",
    "                line = next(source).decode(encoding='UTF-8').replace(\"\\n\", \"\").replace(\" .\", \"\").split(\"|||\")\n",
    "            except UnicodeDecodeError:\n",
    "                pass\n",
    "        else:\n",
    "            line = next(source).replace(\"\\n\", \"\").replace(\" .\", \"\").split(\"|||\")\n",
    "        premise, hypothesis = line[0].split(\" \"), line[1].split(\" \")\n",
    "        affected = False\n",
    "        for word in hypothesis:\n",
    "            if word not in vectored_words:\n",
    "                add_word(word, words_affected)\n",
    "                affected_num += 1\n",
    "                affected = True\n",
    "            vocab.add(word)\n",
    "        for word in premise:\n",
    "            if word not in vectored_words:\n",
    "                add_word(word, words_affected)\n",
    "                affected_num += 1\n",
    "                affected = True\n",
    "            vocab.add(word)\n",
    "        if affected:\n",
    "            samples_affected += 1\n",
    "        num_samples += 1\n",
    "        if num_samples % 20000 == 0:\n",
    "            print(num_samples, \"completed\")\n",
    "except StopIteration:\n",
    "    pass"
   ]
  },
  {
   "cell_type": "code",
   "execution_count": 7,
   "id": "f8584050-8d2d-444b-80b2-42e44d0d6398",
   "metadata": {},
   "outputs": [
    {
     "data": {
      "text/plain": [
       "4359"
      ]
     },
     "execution_count": 7,
     "metadata": {},
     "output_type": "execute_result"
    }
   ],
   "source": [
    "missing_words = vocab - vectored_words\n",
    "len(missing_words)"
   ]
  },
  {
   "cell_type": "code",
   "execution_count": 8,
   "id": "1a96a4bc-0467-4b32-8df6-1b033867093a",
   "metadata": {},
   "outputs": [
    {
     "data": {
      "text/plain": [
       "0.10220158964619822"
      ]
     },
     "execution_count": 8,
     "metadata": {},
     "output_type": "execute_result"
    }
   ],
   "source": [
    "len(missing_words)/len(vocab)"
   ]
  },
  {
   "cell_type": "code",
   "execution_count": 9,
   "id": "ec28f547-8fc1-447c-82d2-bbe10334829d",
   "metadata": {},
   "outputs": [
    {
     "data": {
      "text/plain": [
       "9953"
      ]
     },
     "execution_count": 9,
     "metadata": {},
     "output_type": "execute_result"
    }
   ],
   "source": [
    "samples_affected"
   ]
  },
  {
   "cell_type": "code",
   "execution_count": 10,
   "id": "d3d7c81a-f688-494b-92a6-c765330fbb2c",
   "metadata": {},
   "outputs": [
    {
     "data": {
      "text/plain": [
       "10800"
      ]
     },
     "execution_count": 10,
     "metadata": {},
     "output_type": "execute_result"
    }
   ],
   "source": [
    "affected_num"
   ]
  },
  {
   "cell_type": "code",
   "execution_count": 11,
   "id": "b33c1299-1cc2-48cb-ad9d-aa57dd696fde",
   "metadata": {},
   "outputs": [
    {
     "data": {
      "text/plain": [
       "549360"
      ]
     },
     "execution_count": 11,
     "metadata": {},
     "output_type": "execute_result"
    }
   ],
   "source": [
    "num_samples"
   ]
  },
  {
   "cell_type": "code",
   "execution_count": 12,
   "id": "5990bca7-f8e7-4a23-b2aa-0b701fcce206",
   "metadata": {},
   "outputs": [
    {
     "data": {
      "text/plain": [
       "0.019659239842726082"
      ]
     },
     "execution_count": 12,
     "metadata": {},
     "output_type": "execute_result"
    }
   ],
   "source": [
    "affected_num/num_samples"
   ]
  },
  {
   "cell_type": "code",
   "execution_count": 13,
   "id": "8531f462-024a-4f94-8fd9-3921d44f256b",
   "metadata": {},
   "outputs": [
    {
     "data": {
      "text/html": [
       "<div>\n",
       "<style scoped>\n",
       "    .dataframe tbody tr th:only-of-type {\n",
       "        vertical-align: middle;\n",
       "    }\n",
       "\n",
       "    .dataframe tbody tr th {\n",
       "        vertical-align: top;\n",
       "    }\n",
       "\n",
       "    .dataframe thead th {\n",
       "        text-align: right;\n",
       "    }\n",
       "</style>\n",
       "<table border=\"1\" class=\"dataframe\">\n",
       "  <thead>\n",
       "    <tr style=\"text-align: right;\">\n",
       "      <th></th>\n",
       "      <th>word</th>\n",
       "      <th>num</th>\n",
       "    </tr>\n",
       "  </thead>\n",
       "  <tbody>\n",
       "    <tr>\n",
       "      <th>0</th>\n",
       "      <td>blond-hair</td>\n",
       "      <td>1439</td>\n",
       "    </tr>\n",
       "    <tr>\n",
       "      <th>108</th>\n",
       "      <td>rollerskaters</td>\n",
       "      <td>55</td>\n",
       "    </tr>\n",
       "    <tr>\n",
       "      <th>631</th>\n",
       "      <td>surfboarder</td>\n",
       "      <td>50</td>\n",
       "    </tr>\n",
       "    <tr>\n",
       "      <th>606</th>\n",
       "      <td>Blond-haired</td>\n",
       "      <td>49</td>\n",
       "    </tr>\n",
       "    <tr>\n",
       "      <th>362</th>\n",
       "      <td>graffited</td>\n",
       "      <td>40</td>\n",
       "    </tr>\n",
       "    <tr>\n",
       "      <th>693</th>\n",
       "      <td>men-</td>\n",
       "      <td>33</td>\n",
       "    </tr>\n",
       "    <tr>\n",
       "      <th>148</th>\n",
       "      <td>parasailer</td>\n",
       "      <td>30</td>\n",
       "    </tr>\n",
       "    <tr>\n",
       "      <th>1722</th>\n",
       "      <td>sidewalk-</td>\n",
       "      <td>30</td>\n",
       "    </tr>\n",
       "    <tr>\n",
       "      <th>68</th>\n",
       "      <td>blond-headed</td>\n",
       "      <td>29</td>\n",
       "    </tr>\n",
       "    <tr>\n",
       "      <th>87</th>\n",
       "      <td>boogieboard</td>\n",
       "      <td>28</td>\n",
       "    </tr>\n",
       "    <tr>\n",
       "      <th>1224</th>\n",
       "      <td>casually-dressed</td>\n",
       "      <td>24</td>\n",
       "    </tr>\n",
       "    <tr>\n",
       "      <th>1652</th>\n",
       "      <td>ggauged</td>\n",
       "      <td>24</td>\n",
       "    </tr>\n",
       "    <tr>\n",
       "      <th>591</th>\n",
       "      <td>turkers</td>\n",
       "      <td>24</td>\n",
       "    </tr>\n",
       "    <tr>\n",
       "      <th>2266</th>\n",
       "      <td>brunette-haired</td>\n",
       "      <td>22</td>\n",
       "    </tr>\n",
       "    <tr>\n",
       "      <th>1411</th>\n",
       "      <td>waterskiis</td>\n",
       "      <td>21</td>\n",
       "    </tr>\n",
       "    <tr>\n",
       "      <th>1165</th>\n",
       "      <td>mini-race</td>\n",
       "      <td>21</td>\n",
       "    </tr>\n",
       "    <tr>\n",
       "      <th>1354</th>\n",
       "      <td>RoadWork</td>\n",
       "      <td>21</td>\n",
       "    </tr>\n",
       "    <tr>\n",
       "      <th>3077</th>\n",
       "      <td>rally-car</td>\n",
       "      <td>20</td>\n",
       "    </tr>\n",
       "    <tr>\n",
       "      <th>2424</th>\n",
       "      <td>green-shirted</td>\n",
       "      <td>20</td>\n",
       "    </tr>\n",
       "    <tr>\n",
       "      <th>348</th>\n",
       "      <td>bvoy</td>\n",
       "      <td>20</td>\n",
       "    </tr>\n",
       "  </tbody>\n",
       "</table>\n",
       "</div>"
      ],
      "text/plain": [
       "                  word   num\n",
       "0           blond-hair  1439\n",
       "108      rollerskaters    55\n",
       "631        surfboarder    50\n",
       "606       Blond-haired    49\n",
       "362          graffited    40\n",
       "693               men-    33\n",
       "148         parasailer    30\n",
       "1722         sidewalk-    30\n",
       "68        blond-headed    29\n",
       "87         boogieboard    28\n",
       "1224  casually-dressed    24\n",
       "1652           ggauged    24\n",
       "591            turkers    24\n",
       "2266   brunette-haired    22\n",
       "1411        waterskiis    21\n",
       "1165         mini-race    21\n",
       "1354          RoadWork    21\n",
       "3077         rally-car    20\n",
       "2424     green-shirted    20\n",
       "348               bvoy    20"
      ]
     },
     "execution_count": 13,
     "metadata": {},
     "output_type": "execute_result"
    }
   ],
   "source": [
    "words = pd.DataFrame.from_dict(words_affected, orient='index').reset_index().rename(columns={0: \"num\", \"index\": \"word\"}).sort_values(by=\"num\", ascending=False)\n",
    "words.head(20)"
   ]
  },
  {
   "cell_type": "code",
   "execution_count": 14,
   "id": "c40d6ee3-0604-47de-a9d6-025029884756",
   "metadata": {},
   "outputs": [],
   "source": [
    "numericals = []\n",
    "\n",
    "for word in missing_words:\n",
    "    for num in [\"0\", \"1\", \"2\", \"3\", \"4\", \"5\", \"6\", \"7\", \"8\", \"9\"]:\n",
    "        if num in word:\n",
    "            numericals.append(word)\n",
    "            continue"
   ]
  },
  {
   "cell_type": "code",
   "execution_count": 15,
   "id": "62b4f87b-85d3-4d50-a46b-139831fd36c0",
   "metadata": {},
   "outputs": [
    {
     "data": {
      "text/plain": [
       "59"
      ]
     },
     "execution_count": 15,
     "metadata": {},
     "output_type": "execute_result"
    }
   ],
   "source": [
    "len(numericals)"
   ]
  },
  {
   "cell_type": "code",
   "execution_count": 16,
   "id": "9ca50e47-96dd-426a-bab4-3c64784c98c5",
   "metadata": {},
   "outputs": [
    {
     "data": {
      "text/plain": [
       "(15, 18)"
      ]
     },
     "execution_count": 16,
     "metadata": {},
     "output_type": "execute_result"
    }
   ],
   "source": [
    "15, 18"
   ]
  }
 ],
 "metadata": {
  "kernelspec": {
   "display_name": "Python 3 (ipykernel)",
   "language": "python",
   "name": "python3"
  },
  "language_info": {
   "codemirror_mode": {
    "name": "ipython",
    "version": 3
   },
   "file_extension": ".py",
   "mimetype": "text/x-python",
   "name": "python",
   "nbconvert_exporter": "python",
   "pygments_lexer": "ipython3",
   "version": "3.9.1"
  }
 },
 "nbformat": 4,
 "nbformat_minor": 5
}
