{
 "cells": [
  {
   "cell_type": "code",
   "execution_count": 1,
   "id": "9683dfd2-8bf7-41b8-91e2-25b8b0047712",
   "metadata": {},
   "outputs": [],
   "source": [
    "import pandas as pd\n",
    "import numpy as np"
   ]
  },
  {
   "cell_type": "code",
   "execution_count": 358,
   "id": "7496748b-e7f5-4905-81f6-6e79b3523857",
   "metadata": {},
   "outputs": [],
   "source": [
    "df = pd.read_csv(\"snli_1.0/snli_1.0_train.txt\", sep=\"\\t\")"
   ]
  },
  {
   "cell_type": "code",
   "execution_count": 359,
   "id": "f84b6038-b1be-4b19-a01c-7b820578ff48",
   "metadata": {},
   "outputs": [
    {
     "data": {
      "text/html": [
       "<div>\n",
       "<style scoped>\n",
       "    .dataframe tbody tr th:only-of-type {\n",
       "        vertical-align: middle;\n",
       "    }\n",
       "\n",
       "    .dataframe tbody tr th {\n",
       "        vertical-align: top;\n",
       "    }\n",
       "\n",
       "    .dataframe thead th {\n",
       "        text-align: right;\n",
       "    }\n",
       "</style>\n",
       "<table border=\"1\" class=\"dataframe\">\n",
       "  <thead>\n",
       "    <tr style=\"text-align: right;\">\n",
       "      <th></th>\n",
       "      <th>gold_label</th>\n",
       "      <th>sentence1_binary_parse</th>\n",
       "      <th>sentence2_binary_parse</th>\n",
       "      <th>sentence1_parse</th>\n",
       "      <th>sentence2_parse</th>\n",
       "      <th>sentence1</th>\n",
       "      <th>sentence2</th>\n",
       "      <th>captionID</th>\n",
       "      <th>pairID</th>\n",
       "      <th>label1</th>\n",
       "      <th>label2</th>\n",
       "      <th>label3</th>\n",
       "      <th>label4</th>\n",
       "      <th>label5</th>\n",
       "    </tr>\n",
       "  </thead>\n",
       "  <tbody>\n",
       "    <tr>\n",
       "      <th>0</th>\n",
       "      <td>neutral</td>\n",
       "      <td>( ( This ( church choir ) ) ( ( ( sings ( to (...</td>\n",
       "      <td>( ( The church ) ( ( has ( cracks ( in ( the c...</td>\n",
       "      <td>(ROOT (S (NP (DT This) (NN church) (NN choir))...</td>\n",
       "      <td>(ROOT (S (NP (DT The) (NN church)) (VP (VBZ ha...</td>\n",
       "      <td>This church choir sings to the masses as they ...</td>\n",
       "      <td>The church has cracks in the ceiling.</td>\n",
       "      <td>2677109430.jpg#1</td>\n",
       "      <td>2677109430.jpg#1r1n</td>\n",
       "      <td>neutral</td>\n",
       "      <td>contradiction</td>\n",
       "      <td>contradiction</td>\n",
       "      <td>neutral</td>\n",
       "      <td>neutral</td>\n",
       "    </tr>\n",
       "    <tr>\n",
       "      <th>1</th>\n",
       "      <td>entailment</td>\n",
       "      <td>( ( This ( church choir ) ) ( ( ( sings ( to (...</td>\n",
       "      <td>( ( The church ) ( ( is ( filled ( with song )...</td>\n",
       "      <td>(ROOT (S (NP (DT This) (NN church) (NN choir))...</td>\n",
       "      <td>(ROOT (S (NP (DT The) (NN church)) (VP (VBZ is...</td>\n",
       "      <td>This church choir sings to the masses as they ...</td>\n",
       "      <td>The church is filled with song.</td>\n",
       "      <td>2677109430.jpg#1</td>\n",
       "      <td>2677109430.jpg#1r1e</td>\n",
       "      <td>entailment</td>\n",
       "      <td>entailment</td>\n",
       "      <td>entailment</td>\n",
       "      <td>neutral</td>\n",
       "      <td>entailment</td>\n",
       "    </tr>\n",
       "    <tr>\n",
       "      <th>2</th>\n",
       "      <td>contradiction</td>\n",
       "      <td>( ( This ( church choir ) ) ( ( ( sings ( to (...</td>\n",
       "      <td>( ( ( A choir ) ( singing ( at ( a ( baseball ...</td>\n",
       "      <td>(ROOT (S (NP (DT This) (NN church) (NN choir))...</td>\n",
       "      <td>(ROOT (NP (NP (DT A) (NN choir)) (VP (VBG sing...</td>\n",
       "      <td>This church choir sings to the masses as they ...</td>\n",
       "      <td>A choir singing at a baseball game.</td>\n",
       "      <td>2677109430.jpg#1</td>\n",
       "      <td>2677109430.jpg#1r1c</td>\n",
       "      <td>contradiction</td>\n",
       "      <td>contradiction</td>\n",
       "      <td>contradiction</td>\n",
       "      <td>contradiction</td>\n",
       "      <td>contradiction</td>\n",
       "    </tr>\n",
       "    <tr>\n",
       "      <th>3</th>\n",
       "      <td>neutral</td>\n",
       "      <td>( ( ( A woman ) ( with ( ( ( ( ( a ( green hea...</td>\n",
       "      <td>( ( The woman ) ( ( is young ) . ) )</td>\n",
       "      <td>(ROOT (NP (NP (DT A) (NN woman)) (PP (IN with)...</td>\n",
       "      <td>(ROOT (S (NP (DT The) (NN woman)) (VP (VBZ is)...</td>\n",
       "      <td>A woman with a green headscarf, blue shirt and...</td>\n",
       "      <td>The woman is young.</td>\n",
       "      <td>6160193920.jpg#4</td>\n",
       "      <td>6160193920.jpg#4r1n</td>\n",
       "      <td>neutral</td>\n",
       "      <td>neutral</td>\n",
       "      <td>neutral</td>\n",
       "      <td>neutral</td>\n",
       "      <td>neutral</td>\n",
       "    </tr>\n",
       "    <tr>\n",
       "      <th>4</th>\n",
       "      <td>entailment</td>\n",
       "      <td>( ( ( A woman ) ( with ( ( ( ( ( a ( green hea...</td>\n",
       "      <td>( ( The woman ) ( ( is ( very happy ) ) . ) )</td>\n",
       "      <td>(ROOT (NP (NP (DT A) (NN woman)) (PP (IN with)...</td>\n",
       "      <td>(ROOT (S (NP (DT The) (NN woman)) (VP (VBZ is)...</td>\n",
       "      <td>A woman with a green headscarf, blue shirt and...</td>\n",
       "      <td>The woman is very happy.</td>\n",
       "      <td>6160193920.jpg#4</td>\n",
       "      <td>6160193920.jpg#4r1e</td>\n",
       "      <td>entailment</td>\n",
       "      <td>entailment</td>\n",
       "      <td>contradiction</td>\n",
       "      <td>entailment</td>\n",
       "      <td>neutral</td>\n",
       "    </tr>\n",
       "  </tbody>\n",
       "</table>\n",
       "</div>"
      ],
      "text/plain": [
       "      gold_label                             sentence1_binary_parse  \\\n",
       "0        neutral  ( ( This ( church choir ) ) ( ( ( sings ( to (...   \n",
       "1     entailment  ( ( This ( church choir ) ) ( ( ( sings ( to (...   \n",
       "2  contradiction  ( ( This ( church choir ) ) ( ( ( sings ( to (...   \n",
       "3        neutral  ( ( ( A woman ) ( with ( ( ( ( ( a ( green hea...   \n",
       "4     entailment  ( ( ( A woman ) ( with ( ( ( ( ( a ( green hea...   \n",
       "\n",
       "                              sentence2_binary_parse  \\\n",
       "0  ( ( The church ) ( ( has ( cracks ( in ( the c...   \n",
       "1  ( ( The church ) ( ( is ( filled ( with song )...   \n",
       "2  ( ( ( A choir ) ( singing ( at ( a ( baseball ...   \n",
       "3               ( ( The woman ) ( ( is young ) . ) )   \n",
       "4      ( ( The woman ) ( ( is ( very happy ) ) . ) )   \n",
       "\n",
       "                                     sentence1_parse  \\\n",
       "0  (ROOT (S (NP (DT This) (NN church) (NN choir))...   \n",
       "1  (ROOT (S (NP (DT This) (NN church) (NN choir))...   \n",
       "2  (ROOT (S (NP (DT This) (NN church) (NN choir))...   \n",
       "3  (ROOT (NP (NP (DT A) (NN woman)) (PP (IN with)...   \n",
       "4  (ROOT (NP (NP (DT A) (NN woman)) (PP (IN with)...   \n",
       "\n",
       "                                     sentence2_parse  \\\n",
       "0  (ROOT (S (NP (DT The) (NN church)) (VP (VBZ ha...   \n",
       "1  (ROOT (S (NP (DT The) (NN church)) (VP (VBZ is...   \n",
       "2  (ROOT (NP (NP (DT A) (NN choir)) (VP (VBG sing...   \n",
       "3  (ROOT (S (NP (DT The) (NN woman)) (VP (VBZ is)...   \n",
       "4  (ROOT (S (NP (DT The) (NN woman)) (VP (VBZ is)...   \n",
       "\n",
       "                                           sentence1  \\\n",
       "0  This church choir sings to the masses as they ...   \n",
       "1  This church choir sings to the masses as they ...   \n",
       "2  This church choir sings to the masses as they ...   \n",
       "3  A woman with a green headscarf, blue shirt and...   \n",
       "4  A woman with a green headscarf, blue shirt and...   \n",
       "\n",
       "                               sentence2         captionID  \\\n",
       "0  The church has cracks in the ceiling.  2677109430.jpg#1   \n",
       "1        The church is filled with song.  2677109430.jpg#1   \n",
       "2    A choir singing at a baseball game.  2677109430.jpg#1   \n",
       "3                    The woman is young.  6160193920.jpg#4   \n",
       "4               The woman is very happy.  6160193920.jpg#4   \n",
       "\n",
       "                pairID         label1         label2         label3  \\\n",
       "0  2677109430.jpg#1r1n        neutral  contradiction  contradiction   \n",
       "1  2677109430.jpg#1r1e     entailment     entailment     entailment   \n",
       "2  2677109430.jpg#1r1c  contradiction  contradiction  contradiction   \n",
       "3  6160193920.jpg#4r1n        neutral        neutral        neutral   \n",
       "4  6160193920.jpg#4r1e     entailment     entailment  contradiction   \n",
       "\n",
       "          label4         label5  \n",
       "0        neutral        neutral  \n",
       "1        neutral     entailment  \n",
       "2  contradiction  contradiction  \n",
       "3        neutral        neutral  \n",
       "4     entailment        neutral  "
      ]
     },
     "execution_count": 407,
     "metadata": {},
     "output_type": "execute_result"
    }
   ],
   "source": [
    "df.head()"
   ]
  },
  {
   "cell_type": "code",
   "execution_count": 360,
   "id": "59f64ce7-ac5e-433a-99c3-930fed3d2ebc",
   "metadata": {},
   "outputs": [
    {
     "data": {
      "text/html": [
       "<div>\n",
       "<style scoped>\n",
       "    .dataframe tbody tr th:only-of-type {\n",
       "        vertical-align: middle;\n",
       "    }\n",
       "\n",
       "    .dataframe tbody tr th {\n",
       "        vertical-align: top;\n",
       "    }\n",
       "\n",
       "    .dataframe thead th {\n",
       "        text-align: right;\n",
       "    }\n",
       "</style>\n",
       "<table border=\"1\" class=\"dataframe\">\n",
       "  <thead>\n",
       "    <tr style=\"text-align: right;\">\n",
       "      <th></th>\n",
       "      <th>sentence1</th>\n",
       "      <th>sentence2</th>\n",
       "      <th>label1</th>\n",
       "    </tr>\n",
       "  </thead>\n",
       "  <tbody>\n",
       "    <tr>\n",
       "      <th>0</th>\n",
       "      <td>This church choir sings to the masses as they ...</td>\n",
       "      <td>The church has cracks in the ceiling.</td>\n",
       "      <td>neutral</td>\n",
       "    </tr>\n",
       "    <tr>\n",
       "      <th>1</th>\n",
       "      <td>This church choir sings to the masses as they ...</td>\n",
       "      <td>The church is filled with song.</td>\n",
       "      <td>entailment</td>\n",
       "    </tr>\n",
       "    <tr>\n",
       "      <th>2</th>\n",
       "      <td>This church choir sings to the masses as they ...</td>\n",
       "      <td>A choir singing at a baseball game.</td>\n",
       "      <td>contradiction</td>\n",
       "    </tr>\n",
       "    <tr>\n",
       "      <th>3</th>\n",
       "      <td>A woman with a green headscarf, blue shirt and...</td>\n",
       "      <td>The woman is young.</td>\n",
       "      <td>neutral</td>\n",
       "    </tr>\n",
       "    <tr>\n",
       "      <th>4</th>\n",
       "      <td>A woman with a green headscarf, blue shirt and...</td>\n",
       "      <td>The woman is very happy.</td>\n",
       "      <td>entailment</td>\n",
       "    </tr>\n",
       "  </tbody>\n",
       "</table>\n",
       "</div>"
      ],
      "text/plain": [
       "                                           sentence1  \\\n",
       "0  This church choir sings to the masses as they ...   \n",
       "1  This church choir sings to the masses as they ...   \n",
       "2  This church choir sings to the masses as they ...   \n",
       "3  A woman with a green headscarf, blue shirt and...   \n",
       "4  A woman with a green headscarf, blue shirt and...   \n",
       "\n",
       "                               sentence2         label1  \n",
       "0  The church has cracks in the ceiling.        neutral  \n",
       "1        The church is filled with song.     entailment  \n",
       "2    A choir singing at a baseball game.  contradiction  \n",
       "3                    The woman is young.        neutral  \n",
       "4               The woman is very happy.     entailment  "
      ]
     },
     "execution_count": 408,
     "metadata": {},
     "output_type": "execute_result"
    }
   ],
   "source": [
    "df = df[['sentence1', 'sentence2', 'label1']]\n",
    "df.head()"
   ]
  },
  {
   "cell_type": "code",
   "execution_count": 361,
   "id": "8e7a7ab0-5d7c-459e-a163-760e8cba8be8",
   "metadata": {},
   "outputs": [
    {
     "name": "stdout",
     "output_type": "stream",
     "text": [
      "(10000, 3)\n"
     ]
    },
    {
     "data": {
      "text/plain": [
       "(10000, 3)"
      ]
     },
     "execution_count": 409,
     "metadata": {},
     "output_type": "execute_result"
    }
   ],
   "source": [
    "print(df.shape)\n",
    "df = df.dropna()\n",
    "df.shape"
   ]
  },
  {
   "cell_type": "code",
   "execution_count": 362,
   "id": "cd3f011f-40ca-402f-92b2-8f6f53c7259a",
   "metadata": {},
   "outputs": [
    {
     "data": {
      "text/html": [
       "<div>\n",
       "<style scoped>\n",
       "    .dataframe tbody tr th:only-of-type {\n",
       "        vertical-align: middle;\n",
       "    }\n",
       "\n",
       "    .dataframe tbody tr th {\n",
       "        vertical-align: top;\n",
       "    }\n",
       "\n",
       "    .dataframe thead th {\n",
       "        text-align: right;\n",
       "    }\n",
       "</style>\n",
       "<table border=\"1\" class=\"dataframe\">\n",
       "  <thead>\n",
       "    <tr style=\"text-align: right;\">\n",
       "      <th></th>\n",
       "      <th>premise</th>\n",
       "      <th>hypothesis</th>\n",
       "      <th>label</th>\n",
       "    </tr>\n",
       "  </thead>\n",
       "  <tbody>\n",
       "    <tr>\n",
       "      <th>0</th>\n",
       "      <td>This church choir sings to the masses as they ...</td>\n",
       "      <td>The church has cracks in the ceiling.</td>\n",
       "      <td>neutral</td>\n",
       "    </tr>\n",
       "    <tr>\n",
       "      <th>1</th>\n",
       "      <td>This church choir sings to the masses as they ...</td>\n",
       "      <td>The church is filled with song.</td>\n",
       "      <td>entailment</td>\n",
       "    </tr>\n",
       "    <tr>\n",
       "      <th>2</th>\n",
       "      <td>This church choir sings to the masses as they ...</td>\n",
       "      <td>A choir singing at a baseball game.</td>\n",
       "      <td>contradiction</td>\n",
       "    </tr>\n",
       "    <tr>\n",
       "      <th>3</th>\n",
       "      <td>A woman with a green headscarf, blue shirt and...</td>\n",
       "      <td>The woman is young.</td>\n",
       "      <td>neutral</td>\n",
       "    </tr>\n",
       "    <tr>\n",
       "      <th>4</th>\n",
       "      <td>A woman with a green headscarf, blue shirt and...</td>\n",
       "      <td>The woman is very happy.</td>\n",
       "      <td>entailment</td>\n",
       "    </tr>\n",
       "  </tbody>\n",
       "</table>\n",
       "</div>"
      ],
      "text/plain": [
       "                                             premise  \\\n",
       "0  This church choir sings to the masses as they ...   \n",
       "1  This church choir sings to the masses as they ...   \n",
       "2  This church choir sings to the masses as they ...   \n",
       "3  A woman with a green headscarf, blue shirt and...   \n",
       "4  A woman with a green headscarf, blue shirt and...   \n",
       "\n",
       "                              hypothesis          label  \n",
       "0  The church has cracks in the ceiling.        neutral  \n",
       "1        The church is filled with song.     entailment  \n",
       "2    A choir singing at a baseball game.  contradiction  \n",
       "3                    The woman is young.        neutral  \n",
       "4               The woman is very happy.     entailment  "
      ]
     },
     "execution_count": 410,
     "metadata": {},
     "output_type": "execute_result"
    }
   ],
   "source": [
    "df = df.rename(columns={\"sentence1\": \"premise\", \"sentence2\": \"hypothesis\", \"label1\": \"label\"})\n",
    "df.head()"
   ]
  },
  {
   "cell_type": "code",
   "execution_count": 363,
   "id": "37503a6f-960b-4a69-bd17-4fc3abccefa5",
   "metadata": {},
   "outputs": [
    {
     "data": {
      "text/plain": [
       "neutral          3334\n",
       "entailment       3333\n",
       "contradiction    3333\n",
       "Name: label, dtype: int64"
      ]
     },
     "execution_count": 411,
     "metadata": {},
     "output_type": "execute_result"
    }
   ],
   "source": [
    "df[\"label\"].value_counts()"
   ]
  },
  {
   "cell_type": "code",
   "execution_count": null,
   "id": "354985d4-9c89-4a9f-8251-7d9353b8f566",
   "metadata": {},
   "outputs": [],
   "source": []
  },
  {
   "cell_type": "code",
   "execution_count": 364,
   "id": "31507b37-eb8b-4e51-b22f-ca50f2f2a323",
   "metadata": {},
   "outputs": [
    {
     "data": {
      "text/plain": [
       "5000.0"
      ]
     },
     "execution_count": 412,
     "metadata": {},
     "output_type": "execute_result"
    }
   ],
   "source": [
    "# new_samples = df.shape[0] / (len(df[\"label\"].unique()) + 1)\n",
    "new_samples = df.shape[0] / 2\n",
    "new_samples"
   ]
  },
  {
   "cell_type": "code",
   "execution_count": 365,
   "id": "c7b850b5-e65e-4077-ad09-7c66cb052d94",
   "metadata": {},
   "outputs": [
    {
     "data": {
      "text/plain": [
       "1666"
      ]
     },
     "execution_count": 413,
     "metadata": {},
     "output_type": "execute_result"
    }
   ],
   "source": [
    "new_samples_per_label = int(new_samples / len(df[\"label\"].unique()))\n",
    "new_samples_per_label"
   ]
  },
  {
   "cell_type": "code",
   "execution_count": 366,
   "id": "2346e102-89a9-42d7-a43a-bbdd7d9f4411",
   "metadata": {},
   "outputs": [
    {
     "name": "stdout",
     "output_type": "stream",
     "text": [
      "(1666, 3) (1666, 3) (1666, 3) (10000, 3)\n"
     ]
    }
   ],
   "source": [
    "neutrals, contras, entails = df[df[\"label\"] == \"neutral\"].sample(n=new_samples_per_label), df[df[\"label\"] == \"contradiction\"].sample(n=new_samples_per_label), df[df[\"label\"] == \"entailment\"].sample(n=new_samples_per_label)\n",
    "print(neutrals.shape, contras.shape, entails.shape, df.shape)"
   ]
  },
  {
   "cell_type": "code",
   "execution_count": 367,
   "id": "c87199fe-c06c-4a38-b41c-dbda03ed3763",
   "metadata": {},
   "outputs": [
    {
     "data": {
      "text/plain": [
       "833"
      ]
     },
     "execution_count": 415,
     "metadata": {},
     "output_type": "execute_result"
    }
   ],
   "source": [
    "size = int(neutrals.shape[0] / 2)\n",
    "size"
   ]
  },
  {
   "cell_type": "code",
   "execution_count": 368,
   "id": "c39841ba-9ac5-4070-a7ac-03195159eeca",
   "metadata": {},
   "outputs": [],
   "source": [
    "neutrals_1, neutrals_2 = neutrals.iloc[0:size], neutrals.iloc[size:size * 2]\n",
    "contras_1, contras_2 = contras.iloc[0:size], contras.iloc[size:size * 2]\n",
    "entails_1, entails_2 = entails.iloc[0:size], entails.iloc[size:size * 2]"
   ]
  },
  {
   "cell_type": "code",
   "execution_count": 369,
   "id": "b7d5f8cd-f467-4ab8-9741-9966d93a8f1e",
   "metadata": {},
   "outputs": [
    {
     "name": "stdout",
     "output_type": "stream",
     "text": [
      "(833, 3) (833, 3)\n"
     ]
    }
   ],
   "source": [
    "print(neutrals_1.shape, neutrals_2.shape)"
   ]
  },
  {
   "cell_type": "code",
   "execution_count": 370,
   "id": "b4d238ae-f7e7-4012-8df9-c4aec129b096",
   "metadata": {},
   "outputs": [
    {
     "data": {
      "text/plain": [
       "(4998, 3)"
      ]
     },
     "execution_count": 418,
     "metadata": {},
     "output_type": "execute_result"
    }
   ],
   "source": [
    "df_new = pd.DataFrame()\n",
    "df_new = df_new.append(pd.DataFrame({\"premise\": list(neutrals_1[\"premise\"]), \"hypothesis\": list(contras_2[\"hypothesis\"])}))\n",
    "df_new = df_new.append(pd.DataFrame({\"premise\": list(neutrals_2[\"premise\"]), \"hypothesis\": list(entails_1[\"hypothesis\"])}))\n",
    "df_new = df_new.append(pd.DataFrame({\"premise\": list(contras_1[\"premise\"]), \"hypothesis\": list(entails_2[\"hypothesis\"])}))\n",
    "df_new = df_new.append(pd.DataFrame({\"premise\": list(contras_2[\"premise\"]), \"hypothesis\": list(neutrals_1[\"hypothesis\"])}))\n",
    "df_new = df_new.append(pd.DataFrame({\"premise\": list(entails_1[\"premise\"]), \"hypothesis\": list(neutrals_2[\"hypothesis\"])}))\n",
    "df_new = df_new.append(pd.DataFrame({\"premise\": list(entails_2[\"premise\"]), \"hypothesis\": list(contras_1[\"hypothesis\"])}))\n",
    "df_new[\"label\"] = len(df[\"label\"].unique())\n",
    "df_new.shape"
   ]
  },
  {
   "cell_type": "code",
   "execution_count": 371,
   "id": "1dd2bbd3-c612-4811-a771-f2dcb50d758f",
   "metadata": {},
   "outputs": [
    {
     "data": {
      "text/html": [
       "<div>\n",
       "<style scoped>\n",
       "    .dataframe tbody tr th:only-of-type {\n",
       "        vertical-align: middle;\n",
       "    }\n",
       "\n",
       "    .dataframe tbody tr th {\n",
       "        vertical-align: top;\n",
       "    }\n",
       "\n",
       "    .dataframe thead th {\n",
       "        text-align: right;\n",
       "    }\n",
       "</style>\n",
       "<table border=\"1\" class=\"dataframe\">\n",
       "  <thead>\n",
       "    <tr style=\"text-align: right;\">\n",
       "      <th></th>\n",
       "      <th>premise</th>\n",
       "      <th>hypothesis</th>\n",
       "      <th>label</th>\n",
       "    </tr>\n",
       "  </thead>\n",
       "  <tbody>\n",
       "    <tr>\n",
       "      <th>0</th>\n",
       "      <td>several brides wearing white dresses are holdi...</td>\n",
       "      <td>Two married people avoid looking at one another.</td>\n",
       "      <td>3</td>\n",
       "    </tr>\n",
       "    <tr>\n",
       "      <th>1</th>\n",
       "      <td>A skateboard is grinding on a curb with his sk...</td>\n",
       "      <td>A man with short hair dancing outside while pl...</td>\n",
       "      <td>3</td>\n",
       "    </tr>\n",
       "    <tr>\n",
       "      <th>2</th>\n",
       "      <td>A girl in a red and white uniform is swinging ...</td>\n",
       "      <td>A man chops veggies.</td>\n",
       "      <td>3</td>\n",
       "    </tr>\n",
       "    <tr>\n",
       "      <th>3</th>\n",
       "      <td>people standing at a beach with Cameras.</td>\n",
       "      <td>3 people are seated with their backs against e...</td>\n",
       "      <td>3</td>\n",
       "    </tr>\n",
       "    <tr>\n",
       "      <th>4</th>\n",
       "      <td>Two friends having a laugh.</td>\n",
       "      <td>The woman is sleeping on a pillow.</td>\n",
       "      <td>3</td>\n",
       "    </tr>\n",
       "  </tbody>\n",
       "</table>\n",
       "</div>"
      ],
      "text/plain": [
       "                                             premise  \\\n",
       "0  several brides wearing white dresses are holdi...   \n",
       "1  A skateboard is grinding on a curb with his sk...   \n",
       "2  A girl in a red and white uniform is swinging ...   \n",
       "3           people standing at a beach with Cameras.   \n",
       "4                        Two friends having a laugh.   \n",
       "\n",
       "                                          hypothesis  label  \n",
       "0   Two married people avoid looking at one another.      3  \n",
       "1  A man with short hair dancing outside while pl...      3  \n",
       "2                               A man chops veggies.      3  \n",
       "3  3 people are seated with their backs against e...      3  \n",
       "4                 The woman is sleeping on a pillow.      3  "
      ]
     },
     "execution_count": 419,
     "metadata": {},
     "output_type": "execute_result"
    }
   ],
   "source": [
    "df_new.head()"
   ]
  },
  {
   "cell_type": "code",
   "execution_count": 372,
   "id": "e2e87667-492f-44e0-823b-9d16cb4a94ed",
   "metadata": {},
   "outputs": [
    {
     "data": {
      "text/plain": [
       "(8334, 3)"
      ]
     },
     "execution_count": 420,
     "metadata": {},
     "output_type": "execute_result"
    }
   ],
   "source": [
    "df = df.drop(neutrals.index)\n",
    "df.shape"
   ]
  },
  {
   "cell_type": "code",
   "execution_count": 373,
   "id": "b22c7f5b-cfbf-40b5-96cd-4b83a6134ecf",
   "metadata": {},
   "outputs": [
    {
     "data": {
      "text/plain": [
       "(6668, 3)"
      ]
     },
     "execution_count": 421,
     "metadata": {},
     "output_type": "execute_result"
    }
   ],
   "source": [
    "df = df.drop(contras.index)\n",
    "df.shape"
   ]
  },
  {
   "cell_type": "code",
   "execution_count": 374,
   "id": "ea3d4596-1063-4874-9066-705cc7ae3fec",
   "metadata": {},
   "outputs": [
    {
     "data": {
      "text/plain": [
       "(5002, 3)"
      ]
     },
     "execution_count": 422,
     "metadata": {},
     "output_type": "execute_result"
    }
   ],
   "source": [
    "df = df.drop(entails.index)\n",
    "df.shape"
   ]
  },
  {
   "cell_type": "code",
   "execution_count": 375,
   "id": "f74aa2ca-fed5-409a-bc80-7f049cc39253",
   "metadata": {},
   "outputs": [
    {
     "data": {
      "text/plain": [
       "(10000, 3)"
      ]
     },
     "execution_count": 423,
     "metadata": {},
     "output_type": "execute_result"
    }
   ],
   "source": [
    "df = df.append(df_new)\n",
    "df.shape"
   ]
  },
  {
   "cell_type": "code",
   "execution_count": 376,
   "id": "fc2a7b08-009b-4b1f-bc0d-a3fc60105ea5",
   "metadata": {},
   "outputs": [],
   "source": [
    "df.loc[df[\"label\"] == \"entailment\", \"label\"] = 0\n",
    "df.loc[df[\"label\"] == \"neutral\", \"label\"] = 1\n",
    "df.loc[df[\"label\"] == \"contradiction\", \"label\"] = 2"
   ]
  },
  {
   "cell_type": "code",
   "execution_count": 377,
   "id": "f73e6054-a217-4638-93b3-abeff7767329",
   "metadata": {},
   "outputs": [
    {
     "data": {
      "text/plain": [
       "3    4998\n",
       "1    1668\n",
       "0    1667\n",
       "2    1667\n",
       "Name: label, dtype: int64"
      ]
     },
     "execution_count": 425,
     "metadata": {},
     "output_type": "execute_result"
    }
   ],
   "source": [
    "df[\"label\"].value_counts()"
   ]
  },
  {
   "cell_type": "code",
   "execution_count": 378,
   "id": "51936a73-be50-44ce-bcc3-048cb16004bf",
   "metadata": {},
   "outputs": [],
   "source": [
    "df.to_csv(\"new_train_50.txt\", sep=\"\\t\", index=False)"
   ]
  },
  {
   "cell_type": "code",
   "execution_count": null,
   "id": "7ae27393-c7fd-45d9-bde6-47e1ed5bb18c",
   "metadata": {},
   "outputs": [],
   "source": []
  }
 ],
 "metadata": {
  "kernelspec": {
   "display_name": "Python 3 (ipykernel)",
   "language": "python",
   "name": "python3"
  },
  "language_info": {
   "codemirror_mode": {
    "name": "ipython",
    "version": 3
   },
   "file_extension": ".py",
   "mimetype": "text/x-python",
   "name": "python",
   "nbconvert_exporter": "python",
   "pygments_lexer": "ipython3",
   "version": "3.9.1"
  }
 },
 "nbformat": 4,
 "nbformat_minor": 5
}
